{
 "cells": [
  {
   "cell_type": "markdown",
   "metadata": {},
   "source": [
    "# Teachablemachine\n",
    "In this notebook we are going to train a model from your webcam data. Therefore train a model at **https://teachablemachine.withgoogle.com/train/image** and downlaod it afterwards as \"keras\" model (Model export --> Tensorflow --> Keras). Then replace the files in the /model folder. <br><br>\n",
    "Due teachlabmachine not supporting new tensorflow versions we first need to create a new virtual environment for running this notebook\n",
    "1. Open a command prompt or terminal\n",
    "2. Create conda environment by running the following command `conda create -n teachablemachine python=3.10 -y`\n",
    "3. Activate the environment with: `conda activate teachablemachine`\n",
    "4. Install dependencies: `pip install \"tensorflow==2.12.1\" opencv-python`\n",
    "5. Install dependencies: `conda install jupyter`\n",
    "6. Select the correct kernel in the top right corner (teachablemachine)"
   ]
  },
  {
   "cell_type": "markdown",
   "metadata": {},
   "source": [
    "**Step 1:** Import libraries in order to perform specific tasks:"
   ]
  },
  {
   "cell_type": "code",
   "execution_count": null,
   "metadata": {},
   "outputs": [],
   "source": [
    "import tensorflow as tf\n",
    "import cv2  # Install opencv-python\n",
    "import numpy as np"
   ]
  },
  {
   "cell_type": "markdown",
   "metadata": {},
   "source": [
    "**Step 2:** Load the model and labels:"
   ]
  },
  {
   "cell_type": "code",
   "execution_count": null,
   "metadata": {},
   "outputs": [],
   "source": [
    "model_dir_relative = \"model\"\n",
    "\n",
    "# Disable scientific notation for clarity\n",
    "np.set_printoptions(suppress=True)\n",
    "# Load the model\n",
    "model = tf.keras.models.load_model(model_dir_relative + \"/keras_model.h5\", compile=False)\n",
    "\n",
    "# Load the labels\n",
    "class_names = open(model_dir_relative + \"/labels.txt\", \"r\").readlines()"
   ]
  },
  {
   "cell_type": "markdown",
   "metadata": {},
   "source": [
    "**Step 3:** Create a webcam object of the internal webcam:"
   ]
  },
  {
   "cell_type": "code",
   "execution_count": null,
   "metadata": {},
   "outputs": [],
   "source": [
    "camera_id = 0 # CAMERA can be 0 or 1 based on default camera of your computer\n",
    "camera = cv2.VideoCapture(camera_id)"
   ]
  },
  {
   "cell_type": "markdown",
   "metadata": {},
   "source": [
    "**Step 4:** Use your model for a webcam image classification\n",
    "* If you are using the already existing model see /model/labels.txt for the existing classes\n",
    "* You can press **esc** to quit the image classification and release the camera"
   ]
  },
  {
   "cell_type": "code",
   "execution_count": null,
   "metadata": {},
   "outputs": [],
   "source": [
    "while True:\n",
    "    # Grab the webcamera's image.\n",
    "    ret, image = camera.read()\n",
    "    image_vis = image.copy()\n",
    "\n",
    "    # Resize the raw image into (224-height,224-width) pixels\n",
    "    image = cv2.resize(image, (224, 224), interpolation=cv2.INTER_AREA)\n",
    "\n",
    "    # Make the image a numpy array and reshape it to the models input shape.\n",
    "    image = np.asarray(image, dtype=np.float32).reshape(1, 224, 224, 3)\n",
    "\n",
    "    # Normalize the image array\n",
    "    image = (image / 127.5) - 1\n",
    "\n",
    "    # Predicts the model\n",
    "    prediction = model.predict(image)\n",
    "    index = np.argmax(prediction)\n",
    "    class_name = class_names[index]\n",
    "    confidence_score = prediction[0][index]\n",
    "\n",
    "    # Print prediction and confidence score\n",
    "    predicted_class = str(class_name[2:]).replace(\"\\n\",\"\")\n",
    "    score = str(np.round(confidence_score * 100))[:-2]\n",
    "    print(\"Class:\", predicted_class, end=\"\")\n",
    "    print(\"Confidence Score:\", score, \"%\")\n",
    "\n",
    "    # Show the image in a window\n",
    "    image_vis = cv2.putText(image_vis, f\"Class prediction: {predicted_class},   Score: {score}\", (30, 30), 0, 1.0, (0, 255, 0), 2)\n",
    "    cv2.imshow(\"Webcam Image with classification\", image_vis)\n",
    "\n",
    "\n",
    "    # Listen to the keyboard for presses.\n",
    "    keyboard_input = cv2.waitKey(1)\n",
    "\n",
    "    # 27 is the ASCII for the esc key on your keyboard.\n",
    "    if keyboard_input == 27:\n",
    "        break\n",
    "\n",
    "camera.release()\n",
    "cv2.destroyAllWindows()\n"
   ]
  }
 ],
 "metadata": {
  "kernelspec": {
   "display_name": "teachablemachine",
   "language": "python",
   "name": "python3"
  },
  "language_info": {
   "codemirror_mode": {
    "name": "ipython",
    "version": 3
   },
   "file_extension": ".py",
   "mimetype": "text/x-python",
   "name": "python",
   "nbconvert_exporter": "python",
   "pygments_lexer": "ipython3",
   "version": "3.10.16"
  }
 },
 "nbformat": 4,
 "nbformat_minor": 2
}
