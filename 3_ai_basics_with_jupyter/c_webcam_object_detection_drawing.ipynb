{
 "cells": [
  {
   "cell_type": "markdown",
   "metadata": {},
   "source": [
    "# Webcam drawing\n",
    "In this notebook we are using a hand detector from mediapipe aswell as a webcam to draw an image. For more information to mediapipe Google the project or visit the mediapipe Github"
   ]
  },
  {
   "cell_type": "markdown",
   "metadata": {},
   "source": [
    "**Step 1:** Import libraries in order to perform specific tasks:"
   ]
  },
  {
   "cell_type": "code",
   "execution_count": null,
   "metadata": {},
   "outputs": [],
   "source": [
    "# import the opencv library, which is called \"cv2\"\n",
    "import cv2\n",
    "import mediapipe\n",
    "import numpy as np"
   ]
  },
  {
   "cell_type": "markdown",
   "metadata": {},
   "source": [
    "**Step 2:** Create a hand_detector object and the webcam object:"
   ]
  },
  {
   "cell_type": "code",
   "execution_count": null,
   "metadata": {},
   "outputs": [],
   "source": [
    "# initialize hand detector from mediapipe\n",
    "hand_detector = mediapipe.solutions.hands.Hands()\n",
    "\n",
    "# setup a image_counter to count the amount of images displayed\n",
    "image_counter = 0\n",
    "\n",
    "# create canvas image variable\n",
    "canvas_image = None\n",
    "\n",
    "# create a webcam object from webcam with id \"0\"\n",
    "camera_id = 0\n",
    "webcam = cv2.VideoCapture(camera_id)"
   ]
  },
  {
   "cell_type": "markdown",
   "metadata": {},
   "source": [
    "**Step 3:** Use the hand_detector to draw an image with your hand:\n",
    "* Press **q** to quit the image classification and release the camera\n",
    "* Press **X** to reset the canvas image"
   ]
  },
  {
   "cell_type": "code",
   "execution_count": null,
   "metadata": {},
   "outputs": [],
   "source": [
    "# start a while loop that runs as long as it's condition is \"TRUE\". In this case it will run infinitely if not stopped with \"break\"\n",
    "while True:\n",
    "    \n",
    "    # try to get an image from the webcam, if this try was successful, it will be saved in the variable \"success\"  and the image is saved in \"image\"\n",
    "    success, image = webcam.read()\n",
    "    \n",
    "    # flip image so it is correctly shown, like in a mirror\n",
    "    image = cv2.flip(image, 1)\n",
    "    \n",
    "    if canvas_image is None:\n",
    "        canvas_image = np.zeros_like(image)\n",
    "    \n",
    "    # print info about success if image read\n",
    "    print(\"Image successfully received? ->\", success)\n",
    "    \n",
    "    # stop the loop (\"break\") if the image was not successfully received, so the variable success is \"False\"\n",
    "    if success == False:\n",
    "        break\n",
    "    \n",
    "    # print current counter value\n",
    "    print(\"Show image nr.\", image_counter)\n",
    "    \n",
    "    # detect hand using ai (with mediapipe library)\n",
    "    image_rgb = cv2.cvtColor(image, cv2.COLOR_BGR2RGB)\n",
    "    results = hand_detector.process(image_rgb)\n",
    "    print(results.multi_hand_landmarks)\n",
    "    \n",
    "    if results.multi_hand_landmarks is not None:\n",
    "        for hand_landmarks in results.multi_hand_landmarks:\n",
    "            mediapipe.solutions.drawing_utils.draw_landmarks(image_rgb, hand_landmarks)\n",
    "            \n",
    "            finger_zero_x = int(hand_landmarks.landmark[8].x * canvas_image.shape[1])\n",
    "            finger_zero_y = int(hand_landmarks.landmark[8].y * canvas_image.shape[0])\n",
    "            \n",
    "            image_rgb = cv2.drawMarker(image_rgb, (finger_zero_x, finger_zero_y), (0,255,0), cv2.MARKER_STAR, 15, 2)\n",
    "            canvas_image = cv2.drawMarker(canvas_image, (finger_zero_x, finger_zero_y), (0,255,0), cv2.MARKER_DIAMOND, 3, 2)\n",
    "    \n",
    "    # display the received image in a window\n",
    "    cv2.imshow(\"Draw something!\", canvas_image)\n",
    "    \n",
    "    image_bgr = cv2.cvtColor(image_rgb, cv2.COLOR_RGB2BGR)\n",
    "    cv2.imshow(\"Hand detector\", image_bgr)\n",
    "    \n",
    "    # wait indefinitely for a key press on the keyboard, if key is pressed, save the key that was pressed in \"pressed_key\" variable and continue\n",
    "    pressed_key = cv2.waitKey(1)\n",
    "    \n",
    "    # if the presed key was the q key, stop the loop\n",
    "    if pressed_key == ord(\"q\"):\n",
    "        break\n",
    "    \n",
    "    # if the presed key was the x key, reset canvas image\n",
    "    if pressed_key == ord(\"x\"):\n",
    "        canvas_image = None\n",
    "    \n",
    "    # add 1 to the image counter to count the image\n",
    "    image_counter = image_counter + 1\n",
    "\n",
    "\n",
    "# deactivate camera and destroy windows (clean up)\n",
    "webcam.release()\n",
    "cv2.destroyAllWindows()"
   ]
  }
 ],
 "metadata": {
  "kernelspec": {
   "display_name": "cvintro2",
   "language": "python",
   "name": "python3"
  },
  "language_info": {
   "codemirror_mode": {
    "name": "ipython",
    "version": 3
   },
   "file_extension": ".py",
   "mimetype": "text/x-python",
   "name": "python",
   "nbconvert_exporter": "python",
   "pygments_lexer": "ipython3",
   "version": "3.10.16"
  }
 },
 "nbformat": 4,
 "nbformat_minor": 2
}
