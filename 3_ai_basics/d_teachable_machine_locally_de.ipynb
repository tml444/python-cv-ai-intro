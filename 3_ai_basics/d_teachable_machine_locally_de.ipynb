{
 "cells": [
  {
   "cell_type": "markdown",
   "metadata": {},
   "source": [
    "# Teachablemachine\n",
    "In diesem Notebook trainieren wir ein Modell mit Hilfe von Webcam Bilder. Trainiere hierfür ein Modell auf **https://teachablemachine.withgoogle.com/train/image** und lade es anschließend als \"keras\"-Modell herunter (Model exportieren --> Tensorflow --> Keras). Ersetze dann die Dateien im /model Ordner mit deinem heruntergeladenen Modell. <br><br>\n",
    "Da teachlabmachine keine neuen Tensorflow-Versionen unterstützt, müssen wir zuerst eine neue virtuelle Umgebung für dieses Notebook erstellen\n",
    "1. Öffnen eine Eingabeaufforderung oder ein Terminal\n",
    "2. Erstelle ein conda environment mit dem Befehl: `conda create -n teachablemachine python=3.10 -y`\n",
    "3. Aktiviere die Umgebung mit: `conda activate teachablemachine`\n",
    "4. Installiere die Abhängigkeiten: `pip install \"tensorflow==2.12.1\" opencv-python`\n",
    "5. Installiere die Abhängigkeiten: `conda install jupyter`\n",
    "6. Wähle den richtigen Kernel in der oberen rechten Ecke des Notebooks aus (teachablemachine)"
   ]
  },
  {
   "cell_type": "markdown",
   "metadata": {},
   "source": [
    "**Schritt 1:** Einbinden von Bibliotheken, um bestimmte Aufgaben ausführen zu können:"
   ]
  },
  {
   "cell_type": "code",
   "execution_count": null,
   "metadata": {},
   "outputs": [],
   "source": [
    "import tensorflow as tf\n",
    "import cv2\n",
    "import numpy as np"
   ]
  },
  {
   "cell_type": "markdown",
   "metadata": {},
   "source": [
    "**Schritt 2:** Lade das Modell und die Label:"
   ]
  },
  {
   "cell_type": "code",
   "execution_count": null,
   "metadata": {},
   "outputs": [],
   "source": [
    "# Pfad zum Ordner, in welchem das Modell liegt\n",
    "model_dir_relative = \"model\"\n",
    "\n",
    "# Wissenschaftliche Notation für eine bessere Übersichtlichkeit deaktivieren\n",
    "np.set_printoptions(suppress=True)\n",
    "\n",
    "# Laden des Modells\n",
    "model = tf.keras.models.load_model(model_dir_relative + \"/keras_model.h5\", compile=False)\n",
    "\n",
    "# Laden der Labels\n",
    "class_names = open(model_dir_relative + \"/labels.txt\", \"r\").readlines()"
   ]
  },
  {
   "cell_type": "markdown",
   "metadata": {},
   "source": [
    "**Schritt 3:** Erstellen des Webcam-Objekts:"
   ]
  },
  {
   "cell_type": "code",
   "execution_count": null,
   "metadata": {},
   "outputs": [],
   "source": [
    "camera_id = 0 # Die id kann 0 oder 1 sein, je nach Standardkamera des Computers\n",
    "camera = cv2.VideoCapture(camera_id)"
   ]
  },
  {
   "cell_type": "markdown",
   "metadata": {},
   "source": [
    "**Schritt 4:** Verwenden des Modells für eine Webcam-Bildklassifizierung\n",
    "* Die vorhandenen Klassen werden in /model/labels.txt gespeichert\n",
    "* Mit **esc** kann die Bildklassifizierung beendet und die Kamera deaktiviert werden"
   ]
  },
  {
   "cell_type": "code",
   "execution_count": null,
   "metadata": {},
   "outputs": [],
   "source": [
    "while True:\n",
    "    # Erfassen das Bild der Webkamera.\n",
    "    ret, image = camera.read()\n",
    "    image_vis = image.copy()\n",
    "\n",
    "    # Größe des Bildes in (224-Höhe, 224-Breite) Pixel ändern.\n",
    "    image = cv2.resize(image, (224, 224), interpolation=cv2.INTER_AREA)\n",
    "\n",
    "    # Umwandels des Bildes in einen Numpy-Array und anpassen des Formats an das Modell.\n",
    "    image = np.asarray(image, dtype=np.float32).reshape(1, 224, 224, 3)\n",
    "\n",
    "    # Normalisierung des Bildes\n",
    "    image = (image / 127.5) - 1\n",
    "\n",
    "    # Vorhersage des Modells\n",
    "    prediction = model.predict(image)\n",
    "    index = np.argmax(prediction)\n",
    "    class_name = class_names[index]\n",
    "    confidence_score = prediction[0][index]\n",
    "\n",
    "    # Ausgeben der Vorhersage und des Konfidenzwerts (Wert für Sicherheit der Vorhersage).\n",
    "    predicted_class = str(class_name[2:]).replace(\"\\n\",\"\")\n",
    "    score = str(np.round(confidence_score * 100))[:-2]\n",
    "    print(\"Klasse:\", predicted_class, end=\"\")\n",
    "    print(\"Konfidenzwert:\", score, \"%\")\n",
    "\n",
    "    # Anzeigen des Bildes in einem Fenster.\n",
    "    image_vis = cv2.putText(image_vis, f\"Klasse: {predicted_class},   Konfidenzwert: {score}\", (30, 30), 0, 1.0, (0, 255, 0), 2)\n",
    "    cv2.imshow(\"Webcam Bild mit Klassifizierung\", image_vis)\n",
    "\n",
    "\n",
    "    # Auf einen Tastendruck auf der Tastatur warten.\n",
    "    keyboard_input = cv2.waitKey(1)\n",
    "\n",
    "    # Wenn die gedrückte Taste die Taste Esc war, wird die Schleife angehalten.\n",
    "    # 27 ist der ASCII-Code für die Esc-Taste der Tastatur.\n",
    "    if keyboard_input == 27:\n",
    "        break\n",
    "\n",
    "camera.release()\n",
    "cv2.destroyAllWindows()\n"
   ]
  }
 ],
 "metadata": {
  "kernelspec": {
   "display_name": "teachablemachine",
   "language": "python",
   "name": "python3"
  },
  "language_info": {
   "codemirror_mode": {
    "name": "ipython",
    "version": 3
   },
   "file_extension": ".py",
   "mimetype": "text/x-python",
   "name": "python",
   "nbconvert_exporter": "python",
   "pygments_lexer": "ipython3",
   "version": "3.10.16"
  }
 },
 "nbformat": 4,
 "nbformat_minor": 2
}
