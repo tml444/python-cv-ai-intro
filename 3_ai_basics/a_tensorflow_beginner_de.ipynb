{
 "cells": [
  {
   "cell_type": "markdown",
   "metadata": {
    "id": "rX8mhOLljYeM"
   },
   "source": [
    "##### Copyright 2019 The TensorFlow Authors."
   ]
  },
  {
   "cell_type": "code",
   "execution_count": null,
   "metadata": {
    "cellView": "form",
    "execution": {
     "iopub.execute_input": "2023-01-05T02:22:10.406594Z",
     "iopub.status.busy": "2023-01-05T02:22:10.406330Z",
     "iopub.status.idle": "2023-01-05T02:22:10.411022Z",
     "shell.execute_reply": "2023-01-05T02:22:10.410244Z"
    },
    "id": "BZSlp3DAjdYf"
   },
   "outputs": [],
   "source": [
    "#@title Licensed under the Apache License, Version 2.0 (the \"License\");\n",
    "# you may not use this file except in compliance with the License.\n",
    "# You may obtain a copy of the License at\n",
    "#\n",
    "# https://www.apache.org/licenses/LICENSE-2.0\n",
    "#\n",
    "# Unless required by applicable law or agreed to in writing, software\n",
    "# distributed under the License is distributed on an \"AS IS\" BASIS,\n",
    "# WITHOUT WARRANTIES OR CONDITIONS OF ANY KIND, either express or implied.\n",
    "# See the License for the specific language governing permissions and\n",
    "# limitations under the License."
   ]
  },
  {
   "cell_type": "markdown",
   "metadata": {
    "id": "3wF5wszaj97Y"
   },
   "source": [
    "# TensorFlow 2 Quickstart für Anfänger"
   ]
  },
  {
   "cell_type": "markdown",
   "metadata": {
    "id": "DUNzJc4jTj6G"
   },
   "source": [
    "<table class=\"tfo-notebook-buttons\" align=\"left\">\n",
    "  <td>\n",
    "    <a target=\"_blank\" href=\"https://www.tensorflow.org/tutorials/quickstart/beginner\"><img src=\"https://www.tensorflow.org/images/tf_logo_32px.png\" />View on TensorFlow.org</a>\n",
    "  </td>\n",
    "  <td>\n",
    "    <a target=\"_blank\" href=\"https://colab.research.google.com/github/tensorflow/docs/blob/master/site/en/tutorials/quickstart/beginner.ipynb\"><img src=\"https://www.tensorflow.org/images/colab_logo_32px.png\" />Run in Google Colab</a>\n",
    "  </td>\n",
    "  <td>\n",
    "    <a target=\"_blank\" href=\"https://github.com/tensorflow/docs/blob/master/site/en/tutorials/quickstart/beginner.ipynb\"><img src=\"https://www.tensorflow.org/images/GitHub-Mark-32px.png\" />View source on GitHub</a>\n",
    "  </td>\n",
    "  <td>\n",
    "    <a href=\"https://storage.googleapis.com/tensorflow_docs/docs/site/en/tutorials/quickstart/beginner.ipynb\"><img src=\"https://www.tensorflow.org/images/download_logo_32px.png\" />Download notebook</a>\n",
    "  </td>\n",
    "</table>"
   ]
  },
  {
   "cell_type": "markdown",
   "metadata": {
    "id": "04QgGZc9bF5D"
   },
   "source": [
    "Diese Einführung verwendet [Keras](https://www.tensorflow.org/guide/keras/overview) für die nachfolgenden Schritte:\n",
    "\n",
    "1. Laden eines vorgefertigten Datensatzes.\n",
    "2. Erstellen eines maschinellen Lernmodells mit einem neuronalen Netzwerk, das Bilder klassifiziert.\n",
    "3. Trainieren dieses neuronalen Netzwerks.\n",
    "4. Evaluieren der Genauigkeit des Modells."
   ]
  },
  {
   "cell_type": "markdown",
   "metadata": {
    "id": "nnrWf3PCEzXL"
   },
   "source": [
    "## TensorFlow einrichten\n",
    "\n",
    "Importiere TensorFlow, um loszulegen. TensorFlow ist eine weit verbreitete Open-Source-Bibliothek, die von Google entwickelt wurde und für maschinelles Lernen (ML) und künstliche Intelligenz (KI) verwendet wird. TensorFlow bietet viele Funktionalitäten für die Entwicklung und den Einsatz von ML-Modellen."
   ]
  },
  {
   "cell_type": "code",
   "execution_count": null,
   "metadata": {
    "execution": {
     "iopub.execute_input": "2023-01-05T02:22:10.415302Z",
     "iopub.status.busy": "2023-01-05T02:22:10.415049Z",
     "iopub.status.idle": "2023-01-05T02:22:12.793816Z",
     "shell.execute_reply": "2023-01-05T02:22:12.792789Z"
    },
    "id": "0trJmd6DjqBZ"
   },
   "outputs": [],
   "source": [
    "# TensorFlow und tf.keras\n",
    "import tensorflow as tf\n",
    "\n",
    "# Hilfsbibliotheken\n",
    "import matplotlib.pyplot as plt\n",
    "\n",
    "print(\"TensorFlow Version:\", tf.__version__)"
   ]
  },
  {
   "cell_type": "markdown",
   "metadata": {
    "id": "7NAbSZiaoJ4z"
   },
   "source": [
    "## Laden eines Datensatzes\n",
    "\n",
    "Lade den [MNIST-Datensatz] (http://yann.lecun.com/exdb/mnist/) und bereite ihn vor. MNIST ist ein umfangreicher Datensatz, der Bilder von handgeschriebenen Ziffern (0 bis 9) enthält. Der Datensatz ist in zwei Teile unterteilt. Einen zum Trainieren und einen zum Testen des Modells. Der Datensatz besteht aus Bilder und Labels. Ein Label beschreibt die Klasse, zu der eine bestimmtes Bild zugeordnet wird (Bei MNIST einer Zahl). Es dient als Zielklasse, die das Modell während des Trainings lernen soll."
   ]
  },
  {
   "cell_type": "code",
   "execution_count": null,
   "metadata": {},
   "outputs": [],
   "source": [
    "mnist = tf.keras.datasets.mnist\n",
    "(x_train, y_train), (x_test, y_test) = mnist.load_data() # x sind die Bilder, y sind die zugehörigen Label"
   ]
  },
  {
   "cell_type": "markdown",
   "metadata": {},
   "source": [
    "Wir können den Inhalt eines solchen Bildes als Beispiel ausgeben lassen. Die entsprechende Beschriftung sollte mit dem Bild übereinstimmen."
   ]
  },
  {
   "cell_type": "code",
   "execution_count": null,
   "metadata": {},
   "outputs": [],
   "source": [
    "# Auswahl des dritten Bildes (der Index beginnt in Python bei 0) aus allen 60.000 Trainingsbildern\n",
    "example_image = x_train[2]\n",
    "\n",
    "# Darstellen der 28x28 pixel großen Ziffern in Graustufen mit der integrierten Funktion imshow()\n",
    "plt.imshow(example_image, cmap=plt.cm.binary)\n",
    "\n",
    "# Wir können sehen, dass das Trainingslabel des Bildes = 4 korrekt ist\n",
    "print('label:', y_train[2])"
   ]
  },
  {
   "cell_type": "markdown",
   "metadata": {},
   "source": [
    "Die Pixelwerte der Bilder reichen von 0 bis 255. Wir skalieren diese Werte auf einen Bereich von 0 bis 1, indem wir die Werte durch „255.0“ teilen. Dies wird auch als Normierung bezeichnet und wandelt die Beispieldaten von Ganzzahlen in Gleitkommazahlen um:"
   ]
  },
  {
   "cell_type": "code",
   "execution_count": null,
   "metadata": {
    "execution": {
     "iopub.execute_input": "2023-01-05T02:22:12.798622Z",
     "iopub.status.busy": "2023-01-05T02:22:12.797547Z",
     "iopub.status.idle": "2023-01-05T02:22:13.500907Z",
     "shell.execute_reply": "2023-01-05T02:22:13.499769Z"
    },
    "id": "7FP5258xjs-v"
   },
   "outputs": [],
   "source": [
    "print(x_train.dtype) # Variablentyp\n",
    "x_train, x_test = x_train / 255.0, x_test / 255.\n",
    "print(x_train.dtype)"
   ]
  },
  {
   "cell_type": "markdown",
   "metadata": {
    "id": "BPZ68wASog_I"
   },
   "source": [
    "## Erstellen eines Modells für maschinelles Lernen\n",
    "\n",
    "Nun wollen wir ein `tf.keras.Sequential`-Modell erstellen. Ein Modell besteht aus verschiedenen Layern (Schichten). Layer sind Funktionen mit einer bekannten mathematischen Struktur, die wiederverwendet werden können und trainierbare Variablen haben. [`Sequential`](https://www.tensorflow.org/guide/keras/sequential_model) ist nützlich, um Layer zu stapeln, wobei jedes Layer einen Eingabe-[Tensor](https://www.tensorflow.org/guide/tensor) und einen Ausgabe-Tensor hat. Dieses Modell verwendet die Layer [`Flatten`](https://www.tensorflow.org/api_docs/python/tf/keras/layers/Flatten), [`Dense`](https://www.tensorflow.org/api_docs/python/tf/keras/layers/Dense), und [`Dropout`](https://www.tensorflow.org/api_docs/python/tf/keras/layers/Dropout)."
   ]
  },
  {
   "cell_type": "code",
   "execution_count": null,
   "metadata": {
    "execution": {
     "iopub.execute_input": "2023-01-05T02:22:13.505483Z",
     "iopub.status.busy": "2023-01-05T02:22:13.505206Z",
     "iopub.status.idle": "2023-01-05T02:22:17.768724Z",
     "shell.execute_reply": "2023-01-05T02:22:17.767812Z"
    },
    "id": "h3IKyzTCDNGo"
   },
   "outputs": [],
   "source": [
    "model = tf.keras.models.Sequential([\n",
    "  tf.keras.layers.Flatten(input_shape=(28, 28)),\n",
    "  tf.keras.layers.Dense(128, activation='relu'),\n",
    "  tf.keras.layers.Dropout(0.2),\n",
    "  tf.keras.layers.Dense(10)\n",
    "])"
   ]
  },
  {
   "cell_type": "markdown",
   "metadata": {
    "id": "l2hiez2eIUz8"
   },
   "source": [
    "Für jedes Beispiel liefert das Modell einen Vektor von [logits](https://developers.google.com/machine-learning/glossary#logits) oder [log-odds](https://developers.google.com/machine-learning/glossary#log-odds) Werten. Für MNIST erhalten wir 10 Werte, einen für jede Klasse (0-9). Jeder Wert gibt an, wie stark das Modell davon ausgeht, dass das Eingabebeispiel zu dieser Klasse gehört."
   ]
  },
  {
   "cell_type": "code",
   "execution_count": null,
   "metadata": {
    "execution": {
     "iopub.execute_input": "2023-01-05T02:22:17.772704Z",
     "iopub.status.busy": "2023-01-05T02:22:17.772437Z",
     "iopub.status.idle": "2023-01-05T02:22:20.072126Z",
     "shell.execute_reply": "2023-01-05T02:22:20.071185Z"
    },
    "id": "OeOrNdnkEEcR"
   },
   "outputs": [],
   "source": [
    "predictions = model(x_train[:1]).numpy()\n",
    "print(predictions)"
   ]
  },
  {
   "cell_type": "markdown",
   "metadata": {
    "id": "tgjhDQGcIniO"
   },
   "source": [
    "Da diese Werte nicht skaliert sind, benötigen wir eine weitere Funktion, um sie zu skalieren. Die Funktion „tf.nn.softmax“ wird verwendet, um diese Werte in *Wahrscheinlichkeiten* (Werte zwischen 0 und 1) für jede Klasse umzuwandeln. Eine Wahrscheinlichkeit von 1 würde bedeuten, dass das Modell zu 100 % sicher ist, dass das Beispiel zu dieser Klasse gehört. "
   ]
  },
  {
   "cell_type": "code",
   "execution_count": null,
   "metadata": {
    "execution": {
     "iopub.execute_input": "2023-01-05T02:22:20.076446Z",
     "iopub.status.busy": "2023-01-05T02:22:20.076157Z",
     "iopub.status.idle": "2023-01-05T02:22:20.083166Z",
     "shell.execute_reply": "2023-01-05T02:22:20.082329Z"
    },
    "id": "zWSRnQ0WI5eq"
   },
   "outputs": [],
   "source": [
    "probabilitites = tf.nn.softmax(predictions).numpy()\n",
    "print(probabilitites)"
   ]
  },
  {
   "cell_type": "markdown",
   "metadata": {
    "id": "hQyugpgRIyrA"
   },
   "source": [
    "Im nächsten Schritt wollen wir eine loss-Funktion (Verlustfunktion) für das Training definieren. Eine loss-Funktion misst die Differenz zwischen den vorhergesagten Werten des Modells und den tatsächlichen Zielwerten. Der Hauptzweck einer loss-Funktion besteht darin, das Training des Modells zu steuern, indem ein Wert berechnet wird, der angibt, wie gut das Modell seine Vorhersagen bereits trifft. Das Modell wird dann so trainiert, dass der Verlust minimiert wird. In diesem Beispiel verwenden wir `losses.SparseCategoricalCrossentropy` als loss-Funktion:"
   ]
  },
  {
   "cell_type": "code",
   "execution_count": null,
   "metadata": {
    "execution": {
     "iopub.execute_input": "2023-01-05T02:22:20.087057Z",
     "iopub.status.busy": "2023-01-05T02:22:20.086772Z",
     "iopub.status.idle": "2023-01-05T02:22:20.090872Z",
     "shell.execute_reply": "2023-01-05T02:22:20.090014Z"
    },
    "id": "RSkzdv8MD0tT"
   },
   "outputs": [],
   "source": [
    "loss_fn = tf.keras.losses.SparseCategoricalCrossentropy(from_logits=True)"
   ]
  },
  {
   "cell_type": "markdown",
   "metadata": {
    "id": "ada44eb947d4"
   },
   "source": [
    "Bevor wir mit dem Training beginnen, konfigurieren und kompilieren wir das Modell mit Keras `Model.compile`. Hierfür setzen wir die Klasse [`Optimizer`](https://www.tensorflow.org/api_docs/python/tf/keras/optimizers) auf `Adam`. Ein Optimizer (Optimierer) ist ein Algorithmus, der die internen Parameter des Modells während des Trainings so anpasst, dass der Verlust minimal wird. Wir setzen `loss` auf die Funktion `loss_fn`, die wir zuvor definiert haben, und geben eine Metrik an, die für das Modell bewertet werden soll, indem  wir den Parameter `metrics` auf `accuracy` setzen."
   ]
  },
  {
   "cell_type": "code",
   "execution_count": null,
   "metadata": {
    "execution": {
     "iopub.execute_input": "2023-01-05T02:22:20.119722Z",
     "iopub.status.busy": "2023-01-05T02:22:20.119117Z",
     "iopub.status.idle": "2023-01-05T02:22:20.134333Z",
     "shell.execute_reply": "2023-01-05T02:22:20.133519Z"
    },
    "id": "9foNKHzTD2Vo"
   },
   "outputs": [],
   "source": [
    "model.compile(optimizer='adam',\n",
    "              loss=loss_fn,\n",
    "              metrics=['accuracy'])"
   ]
  },
  {
   "cell_type": "markdown",
   "metadata": {
    "id": "ix4mEL65on-w"
   },
   "source": [
    "## Trainieren und evaluieren des Modells\n",
    "\n",
    "Verwenden die Methode `Model.fit`, um das Training zu starten. Dadurch werden die Modellparameter angepasst und der Verlust minimiert. Das Training findet in mehreren Epochen statt. Innerhalb einer Epoche wird das Modell einmal auf allen Trainingsdaten trainiert. Dazu werden die Trainingsdaten in Minibatches aufgeteilt. Die Batchgröße (Größe der Minibatches) wird verwendet, um zu bestimmen, wie viele Trainingsdaten das Modell auf einmal verarbeiten soll."
   ]
  },
  {
   "cell_type": "code",
   "execution_count": null,
   "metadata": {
    "execution": {
     "iopub.execute_input": "2023-01-05T02:22:20.138349Z",
     "iopub.status.busy": "2023-01-05T02:22:20.137735Z",
     "iopub.status.idle": "2023-01-05T02:22:45.502142Z",
     "shell.execute_reply": "2023-01-05T02:22:45.501107Z"
    },
    "id": "y7suUbJXVLqP"
   },
   "outputs": [],
   "source": [
    "model.fit(x_train, y_train, epochs=5, batch_size=32)"
   ]
  },
  {
   "cell_type": "markdown",
   "metadata": {},
   "source": [
    "Die Balken zeigen an, wie viele Iterationen innerhalb einer Epoche durchgeführt wurden. Eine Iteration ist der Vorgang, bei dem das Modell einen Minibatch durchläuft. Wir können also die Iterationen einer Epoche berechnen aus:\n",
    "Iterationen = Trainingsdaten / Batchsize = 60000 / 32 = 1875"
   ]
  },
  {
   "cell_type": "markdown",
   "metadata": {
    "id": "4mDAAPFqVVgn"
   },
   "source": [
    "Nachdem das Modell trainiert wurde, können wir es nun auswerten. Die Methode `Model.evaluate` prüft die Leistung des Modells, in der Regel anhand eines [validation set](https://developers.google.com/machine-learning/glossary#validation-set) oder [test set](https://developers.google.com/machine-learning/glossary#test-set)"
   ]
  },
  {
   "cell_type": "code",
   "execution_count": null,
   "metadata": {
    "execution": {
     "iopub.execute_input": "2023-01-05T02:22:45.506431Z",
     "iopub.status.busy": "2023-01-05T02:22:45.505811Z",
     "iopub.status.idle": "2023-01-05T02:22:46.390594Z",
     "shell.execute_reply": "2023-01-05T02:22:46.389744Z"
    },
    "id": "F7dTAzgHDUh7"
   },
   "outputs": [],
   "source": [
    "model.evaluate(x_test,  y_test, verbose=2)"
   ]
  },
  {
   "cell_type": "markdown",
   "metadata": {
    "id": "T4JfEh7kvx6m"
   },
   "source": [
    "Das Modell zur Bildklassifizierung ist nun auf ~98% Genauigkeit auf diesem Datensatz trainiert. Um mehr zu erfahren, lese die [TensorFlow tutorials](https://www.tensorflow.org/tutorials/)."
   ]
  },
  {
   "cell_type": "markdown",
   "metadata": {
    "id": "-47O6_GLdRuT"
   },
   "source": [
    "## Fazit\n",
    "\n",
    "Herzlichen Glückwunsch! Du hast ein Modell für maschinelles Lernen mit einem vorgefertigten Datensatz unter Verwendung der [Keras](https://www.tensorflow.org/guide/keras/overview) API trainiert.\n",
    "\n",
    "Weitere Beispiele zur Verwendung von Keras findest du in den [tutorials](https://www.tensorflow.org/tutorials/keras/). Um mehr über die Erstellung von Modellen mit Keras zu erfahren, lese die [guides](https://www.tensorflow.org/guide/keras). Wenn du mehr über das Laden und Aufbereiten von Daten erfahren möchten, lese die Tutorials zu [Laden von Bilddaten](https://www.tensorflow.org/tutorials/load_data/images) oder [Laden von CSV-Daten](https://www.tensorflow.org/tutorials/load_data/csv)."
   ]
  }
 ],
 "metadata": {
  "colab": {
   "name": "beginner.ipynb",
   "toc_visible": true
  },
  "kernelspec": {
   "display_name": "cvintro2",
   "language": "python",
   "name": "python3"
  },
  "language_info": {
   "codemirror_mode": {
    "name": "ipython",
    "version": 3
   },
   "file_extension": ".py",
   "mimetype": "text/x-python",
   "name": "python",
   "nbconvert_exporter": "python",
   "pygments_lexer": "ipython3",
   "version": "3.10.16"
  }
 },
 "nbformat": 4,
 "nbformat_minor": 0
}
