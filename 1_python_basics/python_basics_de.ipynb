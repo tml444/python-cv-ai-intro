{
 "cells": [
  {
   "cell_type": "markdown",
   "metadata": {},
   "source": [
    "# Python Grundlagen\n",
    "Dies ist ein Jupyter-Notebook, um die grundlegenden Funktionen von Python kennenzulernen. Ein \"Notebook\" ist kein normales Skript. Es ermöglicht Code in Zellen zu schreiben und auszuführen, um sofortige Rückmeldungen und Experimentiermöglichkeiten zu erhalten. Zwischen den Zellen wird der Zustand der Variablen beibehalten, sodass die gleichen Variablen in mehreren Zellen verwendet werden können. Der Code in den folgenden Zellen kann über die Schaltfläche \"Zelle ausführen\" links neben jeder Zelle ausgeführt werden."
   ]
  },
  {
   "cell_type": "markdown",
   "metadata": {},
   "source": [
    "### A) Hello World!\n",
    "In der folgenden Zelle werden die Teilnehmer begrüßt <br>\n",
    "\"**#**\" kann verwendet werden, um den Code zu kommentieren und die Lesbarkeit des Codes sicherzustellen"
   ]
  },
  {
   "cell_type": "code",
   "execution_count": null,
   "metadata": {},
   "outputs": [],
   "source": [
    "# Die print() Funktion kann verwendet werden, um Text in der Konsole auszugeben\n",
    "print(\"Willkommen beim Fraunhofer IPA!\")\n",
    "print(\"Viel Spaß!\")"
   ]
  },
  {
   "cell_type": "markdown",
   "metadata": {},
   "source": [
    "### B) Python Grundlagen\n",
    "**Schritt 1:** Zuerst möchten wir eine Variable deklarieren und ihren Inhalt auf die Konsole ausgeben:"
   ]
  },
  {
   "cell_type": "code",
   "execution_count": null,
   "metadata": {},
   "outputs": [],
   "source": [
    "# Ausgeben eines Strings (ein String ist ein Text)\n",
    "print(\"Hallo\")\n",
    "\n",
    "# Speichern des Strings in einer Variablen und ausgeben des Inhalts der Variablen in der Konsole\n",
    "mein_text = \"Dies ist mein Text!\"\n",
    "print(mein_text)"
   ]
  },
  {
   "cell_type": "markdown",
   "metadata": {},
   "source": [
    "**Schritt 2:** Schleifen ermöglichen es, Codeblöcke mehrmals auszuführen. Als Nächstes möchten wir eine while-Schleife verwenden, die so lange läuft, wie ein Zähler einen definierten Wert unterschreitet:"
   ]
  },
  {
   "cell_type": "code",
   "execution_count": null,
   "metadata": {},
   "outputs": [],
   "source": [
    "# Erstelle eine while-Schleife, die so lange läuft, wie der Zähler unter 10 ist\n",
    "zaehler = 0\n",
    "while zaehler < 10:\n",
    "    \n",
    "    # Hinweis: Alles, was in der while-Schleife passiert, muss mit einem Tab eingerückt sein\n",
    "    print(zaehler)\n",
    "    zaehler = zaehler + 1\n",
    "    \n",
    "print(\"while-Schleife beendet\")\n",
    "print(\"Status des Zählers:\", zaehler)"
   ]
  },
  {
   "cell_type": "markdown",
   "metadata": {},
   "source": [
    "**Schritt 3:** Im nächsten Schritt möchten wir eine Benutzereingabe über die Konsole einlesen:"
   ]
  },
  {
   "cell_type": "code",
   "execution_count": null,
   "metadata": {},
   "outputs": [],
   "source": [
    "# Lese Eingabe vom Benutzer über die Konsole\n",
    "print(\"Gib Zahl A ein und drücke Enter:\")\n",
    "\n",
    "# Die input() Funktion wartet darauf, dass der Benutzer etwas eingibt und Enter drückt\n",
    "# Der eingegebenen String wird dann in die Variable a gespeichert\n",
    "a = input() \n",
    "\n",
    "# Mit einem String können wir nicht rechnen, daher muss 'a' in den Datentyp float (eine Kommazahl) konvertiert werden\n",
    "a = float(a) \n",
    "\n",
    "print(\"Gib Zahl B ein und drücke Enter:\")\n",
    "b = input()\n",
    "b = float(b)\n",
    "\n",
    "print(\"Zahl A =\", a)\n",
    "print(\"Zahl B =\", b)"
   ]
  },
  {
   "cell_type": "markdown",
   "metadata": {},
   "source": [
    "**Schritt 4:** Als Nächstes möchten wir eine einfache mathematische Funktion erstellen und verwenden, um das Produkt aus unseren vorherigen Eingaben zu berechnen:"
   ]
  },
  {
   "cell_type": "code",
   "execution_count": null,
   "metadata": {},
   "outputs": [],
   "source": [
    "# Führe eine einfache mathematische Berechnung durch, indem du eine Funktion mit dem Schlüsselwort \"def\" erstellst, die zwei Werte a und b multipliziert\n",
    "def multiplikation(zahl_a, zahl_b):\n",
    "    \n",
    "    result = zahl_a * zahl_b\n",
    "    \n",
    "    return result\n",
    "\n",
    "# Verwende die Funktion, indem du ihr die beiden Variablen a und b als Eingabeparameter übergibst\n",
    "produkt = multiplikation(a, b)\n",
    "\n",
    "print(\"Das Produkt von a und b ist: \")\n",
    "print(produkt)"
   ]
  },
  {
   "cell_type": "markdown",
   "metadata": {},
   "source": [
    "**Schritt 5:** Die folgende Zelle enthält eine if-Anweisung. Sie ermöglicht es dem Programm, basierend auf bestimmten Bedingungen unterschiedliche Codeblöcke auszuführen:"
   ]
  },
  {
   "cell_type": "code",
   "execution_count": null,
   "metadata": {},
   "outputs": [],
   "source": [
    "# Analysiere das Produkt mit einer einfachen if-Anweisung\n",
    "\n",
    "if produkt > 100:\n",
    "    # Wenn das Produkt größer als 100 ist werden die folgenden eingerückten Zeilen ausgeführt\n",
    "    print(\"Das Produkt von a und b ist größer als 100.\")\n",
    "    \n",
    "elif produkt == 100:\n",
    "    # Wenn das Produkt genau 100 ist werden die folgenden eingerückten Zeilen ausgeführt\n",
    "    print(\"Das Produkt von a und b ist gleich 100.\")\n",
    "    \n",
    "else:\n",
    "    # Ist keine der vorherigen Bedingungen wahr werden die folgenden eingerückten Zeilen ausgeführt\n",
    "    print(\"Das Produkt von a und b ist kleiner als 100.\")"
   ]
  },
  {
   "cell_type": "markdown",
   "metadata": {},
   "source": [
    "### C) Playground\n",
    "Die nächste Zelle ist eine Möglichkeit ein eigenes Programm auszuführen! Zum Beispiel eine Schleife, die von 1 bis 1000 zählt, wie im nachfolgenden Code... <br>\n",
    "Entferne das \"#\" vor den Zeilen, um den Code zu aktivieren. Dies ist auch hilfreich für die weiteren Notebooks."
   ]
  },
  {
   "cell_type": "code",
   "execution_count": null,
   "metadata": {},
   "outputs": [],
   "source": [
    "# counter = 0\n",
    "# while counter <= 1000:\n",
    "#     print(counter)\n",
    "#     counter+=1"
   ]
  }
 ],
 "metadata": {
  "kernelspec": {
   "display_name": "cvintro2",
   "language": "python",
   "name": "python3"
  },
  "language_info": {
   "codemirror_mode": {
    "name": "ipython",
    "version": 3
   },
   "file_extension": ".py",
   "mimetype": "text/x-python",
   "name": "python",
   "nbconvert_exporter": "python",
   "pygments_lexer": "ipython3",
   "version": "3.10.16"
  }
 },
 "nbformat": 4,
 "nbformat_minor": 2
}
