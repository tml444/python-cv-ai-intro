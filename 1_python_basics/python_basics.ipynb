{
 "cells": [
  {
   "cell_type": "markdown",
   "metadata": {},
   "source": [
    "# Python basics\n",
    "This is a Jupyternotebook to get to know the basic functions of Python. A \"notebook\" is not a normal script. It is possible to write and execute code in cells, enabling immediate feedback and experimentation. Between each cell, the stat of variables etc. is kept, so you can work on the same variables in multiple cells. Run the code in the cells below with the \"play\" button left to the cell!"
   ]
  },
  {
   "cell_type": "markdown",
   "metadata": {},
   "source": [
    "### A) Hello World!\n",
    "The following cell welcomes the bogy interns <br>\n",
    "\"**#**\" can be used to comment the Code to ensure code readability"
   ]
  },
  {
   "cell_type": "code",
   "execution_count": null,
   "metadata": {},
   "outputs": [],
   "source": [
    "# The print() function can be used to print text to the console\n",
    "print(\"Willkommen beim BOGY Praktikum 2025 am Fraunhofer IPA!\")\n",
    "print(\"Viel Spaß!\")"
   ]
  },
  {
   "cell_type": "markdown",
   "metadata": {},
   "source": [
    "### B) Python Basics\n",
    "**Step 1:** First we want to declare a variable and print it to the console:"
   ]
  },
  {
   "cell_type": "code",
   "execution_count": null,
   "metadata": {},
   "outputs": [],
   "source": [
    "# print a string (a string is a text)\n",
    "print(\"Hello\")\n",
    "\n",
    "# save string to a variable and print the variable content\n",
    "my_text = \"This is my text!\"\n",
    "print(my_text)"
   ]
  },
  {
   "cell_type": "markdown",
   "metadata": {},
   "source": [
    "**Step 2:** Loops allow you to execute blocks of code multiple times. Next we want to use a while loop that iterates as long as a counter is below a defined value:"
   ]
  },
  {
   "cell_type": "code",
   "execution_count": null,
   "metadata": {},
   "outputs": [],
   "source": [
    "# create a while loop that iterates as long as counter is below 10\n",
    "counter = 0\n",
    "while counter < 10:\n",
    "    \n",
    "    # Note: everything that happens in the while loop has to be indented by 1 tab\n",
    "    print(counter)\n",
    "    counter = counter + 1\n",
    "    \n",
    "print(\"while loop ended\")\n",
    "print(\"Counter state:\", counter)"
   ]
  },
  {
   "cell_type": "markdown",
   "metadata": {},
   "source": [
    "**Step 3:** In the next step we want to read in some unser input via the console:"
   ]
  },
  {
   "cell_type": "code",
   "execution_count": null,
   "metadata": {},
   "outputs": [],
   "source": [
    "# get input from the user over console\n",
    "print(\"Type in Number A and press Enter:\")\n",
    "\n",
    "a = input() # this waits for the user to type in some string and press enter, then saves the string to the variable a\n",
    "a = float(a) # we have to convert the string a to the datatype float to calculate with it\n",
    "\n",
    "print(\"Type in Number B and press Enter:\")\n",
    "\n",
    "b = input()\n",
    "b = float(b)\n",
    "\n",
    "print(\"Number A =\", a)\n",
    "print(\"Number B =\", b)"
   ]
  },
  {
   "cell_type": "markdown",
   "metadata": {},
   "source": [
    "**Step 4:** Next we want to create a simple math function and use it to calculate the product of our previous inputs:"
   ]
  },
  {
   "cell_type": "code",
   "execution_count": null,
   "metadata": {},
   "outputs": [],
   "source": [
    "# perform simple math by creating a function with the keyword \"def\" that multiplies two values a and b\n",
    "def multiply(number_a, number_b):\n",
    "    \n",
    "    result = number_a * number_b\n",
    "    \n",
    "    return result\n",
    "\n",
    "# use the defined function by giving it the two variables a and b as input arguments\n",
    "product = multiply(a, b)\n",
    "\n",
    "print(\"The product of a and b is: \")\n",
    "print(product)"
   ]
  },
  {
   "cell_type": "markdown",
   "metadata": {},
   "source": [
    "**Step 5:** The following cell contains a if statement. It allows your program to execute different blocks of code based on certain conditions:"
   ]
  },
  {
   "cell_type": "code",
   "execution_count": null,
   "metadata": {},
   "outputs": [],
   "source": [
    "# analyse the product with a simple if statement\n",
    "if product > 100:\n",
    "    \n",
    "    print(\"The product of a and b is greater than 100.\")\n",
    "\n",
    "elif product == 100:\n",
    "    \n",
    "    print(\"The product of a and b is equal to 100.\")\n",
    "    \n",
    "else:\n",
    "    \n",
    "    print(\"The product of a and b is smaller than 100.\")"
   ]
  },
  {
   "cell_type": "markdown",
   "metadata": {},
   "source": [
    "### C) Playground\n",
    "The next cell is a playground. Try out your own program! For example, a loop that counts from 1 to 1000, like this... <br>\n",
    "Remove the \"#\" in front of the lines to \"activate\" the code. \n",
    "This is called \"uncomment\" the code and will be useful later."
   ]
  },
  {
   "cell_type": "code",
   "execution_count": null,
   "metadata": {},
   "outputs": [],
   "source": [
    "# counter = 0\n",
    "# while counter <= 1000:\n",
    "#     print(counter)\n",
    "#     counter+=1"
   ]
  }
 ],
 "metadata": {
  "kernelspec": {
   "display_name": "cvintro2",
   "language": "python",
   "name": "python3"
  },
  "language_info": {
   "codemirror_mode": {
    "name": "ipython",
    "version": 3
   },
   "file_extension": ".py",
   "mimetype": "text/x-python",
   "name": "python",
   "nbconvert_exporter": "python",
   "pygments_lexer": "ipython3",
   "version": "3.10.16"
  }
 },
 "nbformat": 4,
 "nbformat_minor": 2
}
