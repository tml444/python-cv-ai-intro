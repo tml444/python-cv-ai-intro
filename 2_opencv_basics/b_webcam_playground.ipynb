{
 "cells": [
  {
   "attachments": {},
   "cell_type": "markdown",
   "metadata": {},
   "source": [
    "# Webcam Playground with jupyter notebooks\n",
    "\n",
    "Play with python and opencv in this notebook. Between each cell, the stat of variables etc. is kept, so you can work on the same variables in multiple cells."
   ]
  },
  {
   "attachments": {},
   "cell_type": "markdown",
   "metadata": {},
   "source": [
    "**Step 1**: Check the following code from the previous script \"a_webcam_viewer.py\" in the code cells below and run it!"
   ]
  },
  {
   "cell_type": "code",
   "execution_count": null,
   "metadata": {},
   "outputs": [],
   "source": [
    "import cv2\n",
    "import matplotlib.pyplot as plt\n",
    "\n",
    "# create a webcam object from webcam with id \"0\"\n",
    "camera_id = 0\n",
    "webcam = cv2.VideoCapture(camera_id)\n",
    "\n",
    "image_counter = 0\n"
   ]
  },
  {
   "cell_type": "code",
   "execution_count": null,
   "metadata": {},
   "outputs": [],
   "source": [
    "# visualize the image with matplotlib. Note: you may have to run this several times, due to the first image being black maybe.\n",
    "\n",
    "success, image = webcam.read()\n",
    "image_counter = image_counter + 1\n",
    "\n",
    "print(success)\n",
    "print(\"Image counter: \", image_counter)\n",
    "\n",
    "\n",
    "plt.imshow(image) #TODO: if the image is blue, use the code below instead\n",
    "# image_bgr = cv2.cvtColor(image, cv2.COLOR_BGR2RGB) # this is necessary, due to the color format of opencv beeing inverse to the format of matplotlib (BGR instead of RGB)\n",
    "# plt.imshow(image_bgr)"
   ]
  },
  {
   "cell_type": "code",
   "execution_count": null,
   "metadata": {},
   "outputs": [],
   "source": [
    "print(image.shape) # show the dimensions of the image -> height x width x channels (3 channels, 1 for each color)\n",
    "print(image) # show the data structure of the image"
   ]
  },
  {
   "cell_type": "code",
   "execution_count": null,
   "metadata": {},
   "outputs": [],
   "source": [
    "# deactivate the camera\n",
    "webcam.release()"
   ]
  },
  {
   "attachments": {},
   "cell_type": "markdown",
   "metadata": {},
   "source": [
    "**Step 2**: After testing the code from above, add the following functionality:\n",
    "\n",
    "Try to print the current frame number on the image using the opencv function \"cv2.putText()\". Try to google how this function has to be used.\n",
    "\n",
    "Note: Images have a xy coordinate system that starts in the upper left. Each pixel has a x and y position and a RGB color values, e.g. (235, 231, 5) for red, green and blue. You can try to print out the image once, to see the values and matrix."
   ]
  },
  {
   "cell_type": "code",
   "execution_count": null,
   "metadata": {},
   "outputs": [],
   "source": [
    "# implement cv2.putText and show new image"
   ]
  },
  {
   "attachments": {},
   "cell_type": "markdown",
   "metadata": {},
   "source": [
    "**Step 3**: Now write the image with the text to the disk. Use the cv2.imwrite() function for that and google how it works."
   ]
  },
  {
   "cell_type": "code",
   "execution_count": null,
   "metadata": {},
   "outputs": [],
   "source": [
    "# write image to disk"
   ]
  },
  {
   "attachments": {},
   "cell_type": "markdown",
   "metadata": {},
   "source": [
    "**Step 3** [ADVANCED]: Apply the following algorithms to the image from the webcam: Smoothing and Thresholding. Then save with a different file name.\n",
    "\n",
    "- https://docs.opencv.org/4.x/d4/d13/tutorial_py_filtering.html\n",
    "- https://docs.opencv.org/4.x/d7/d4d/tutorial_py_thresholding.html\n"
   ]
  },
  {
   "cell_type": "code",
   "execution_count": null,
   "metadata": {},
   "outputs": [],
   "source": [
    "# apply smoothing\n",
    "\n",
    "# apply thresholding"
   ]
  }
 ],
 "metadata": {
  "language_info": {
   "name": "python"
  },
  "orig_nbformat": 4
 },
 "nbformat": 4,
 "nbformat_minor": 2
}
