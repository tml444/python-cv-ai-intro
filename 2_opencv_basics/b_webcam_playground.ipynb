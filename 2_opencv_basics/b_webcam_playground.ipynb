{
 "cells": [
  {
   "attachments": {},
   "cell_type": "markdown",
   "metadata": {},
   "source": [
    "# Webcam Playground with jupyter notebooks\n",
    "\n",
    "Play with python and opencv in this notebook. \n",
    "\n",
    "First: Startup a console, activate your environment with `conda activate my_env_name` and run `pip install jupyter` in your conda environment to install jupyter."
   ]
  },
  {
   "attachments": {},
   "cell_type": "markdown",
   "metadata": {},
   "source": [
    "**Step 1**: Copy-Paste the code from the previous script \"a_webcam_viewer.py\" in the code cell below and run it!"
   ]
  },
  {
   "cell_type": "code",
   "execution_count": null,
   "metadata": {},
   "outputs": [],
   "source": [
    "### Insert a_webcam_viewer.py code here!"
   ]
  },
  {
   "attachments": {},
   "cell_type": "markdown",
   "metadata": {},
   "source": [
    "**Step 2**: After testing the code from above, copy/paste it again in the cell below. Add the following functionality:\n",
    "\n",
    "Try to print the current frame number on the image using the opencv function \"cv2.putText()\". Try to google how this function has to be used.\n",
    "\n",
    "Note: Images have a xy coordinate system that starts in the upper left. Each pixel has a x and y position and a RGB color values, e.g. (235, 231, 5) for red, green and blue. You can try to print out the image once, to see the values and matrix."
   ]
  },
  {
   "cell_type": "code",
   "execution_count": null,
   "metadata": {},
   "outputs": [],
   "source": []
  },
  {
   "attachments": {},
   "cell_type": "markdown",
   "metadata": {},
   "source": [
    "**Step 3**: Copy/Paste again. Apply the following algorithms to the image: Smoothing and Thresholding.\n",
    "\n",
    "- https://docs.opencv.org/4.x/d4/d13/tutorial_py_filtering.html\n",
    "- https://docs.opencv.org/4.x/d7/d4d/tutorial_py_thresholding.html\n"
   ]
  },
  {
   "cell_type": "code",
   "execution_count": null,
   "metadata": {},
   "outputs": [],
   "source": []
  }
 ],
 "metadata": {
  "language_info": {
   "name": "python"
  },
  "orig_nbformat": 4
 },
 "nbformat": 4,
 "nbformat_minor": 2
}
