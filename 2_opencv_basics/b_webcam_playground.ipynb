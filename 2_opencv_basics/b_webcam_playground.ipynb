{
 "cells": [
  {
   "attachments": {},
   "cell_type": "markdown",
   "metadata": {},
   "source": [
    "# Webcam Playground with jupyter notebooks\n",
    "\n",
    "This is a \"notebook\", not a normal script. Play with python and opencv in this notebook. Between each cell, the stat of variables etc. is kept, so you can work on the same variables in multiple cells."
   ]
  },
  {
   "attachments": {},
   "cell_type": "markdown",
   "metadata": {},
   "source": [
    "**Step 1**: Run the code in the cells below with the \"play\" button left to the cell!"
   ]
  },
  {
   "cell_type": "code",
   "execution_count": null,
   "metadata": {},
   "outputs": [],
   "source": [
    "import cv2\n",
    "import matplotlib.pyplot as plt"
   ]
  },
  {
   "cell_type": "code",
   "execution_count": null,
   "metadata": {},
   "outputs": [],
   "source": [
    "# define a function to show the images in this notebook\n",
    "def show_image(opencv_input_image):\n",
    "    \n",
    "    #plt.imshow(opencv_input_image) #TODO: if the image is blue, use the two lines of code below instead\n",
    "    opencv_input_image_rgb = cv2.cvtColor(opencv_input_image, cv2.COLOR_BGR2RGB) # this is necessary, due to the color format of opencv beeing inverse to the format of matplotlib (BGR instead of RGB)\n",
    "    plt.imshow(opencv_input_image_rgb) "
   ]
  },
  {
   "cell_type": "code",
   "execution_count": null,
   "metadata": {},
   "outputs": [],
   "source": [
    "# create a webcam object from webcam with id \"0\"\n",
    "camera_id = 0\n",
    "webcam = cv2.VideoCapture(camera_id)\n",
    "\n",
    "image_counter = 0"
   ]
  },
  {
   "cell_type": "code",
   "execution_count": null,
   "metadata": {},
   "outputs": [],
   "source": [
    "# visualize the image with our show_image function from above. Note: you may have to run this several times, due to the first image being black maybe.\n",
    "\n",
    "success, image = webcam.read()\n",
    "image_counter = image_counter + 1\n",
    "\n",
    "print(success)\n",
    "print(\"Image counter: \", image_counter)\n",
    "\n",
    "show_image(image)"
   ]
  },
  {
   "cell_type": "code",
   "execution_count": null,
   "metadata": {},
   "outputs": [],
   "source": [
    "print(image.shape) # show the dimensions of the image -> height x width x channels (3 channels, 1 for each color)\n",
    "print(image) # show the data structure of the image"
   ]
  },
  {
   "cell_type": "code",
   "execution_count": null,
   "metadata": {},
   "outputs": [],
   "source": [
    "# deactivate the camera\n",
    "webcam.release()"
   ]
  },
  {
   "attachments": {},
   "cell_type": "markdown",
   "metadata": {},
   "source": [
    "**Step 2**: After testing the code from above, add the following functionality:\n",
    "\n",
    "Try to print the current frame number on the image using the opencv function \"cv2.putText()\". Try to google how this function has to be used.\n",
    "\n",
    "Note: Images have a xy coordinate system that starts in the upper left. Each pixel has a x and y position and a RGB color values, e.g. (235, 231, 5) for red, green and blue. You can try to print out the image once, to see the values and matrix."
   ]
  },
  {
   "cell_type": "code",
   "execution_count": null,
   "metadata": {},
   "outputs": [],
   "source": [
    "# TODO: uncomment the code below\n",
    "\n",
    "# image = cv2.putText(image, \"MY TEXT\", (30, 30), 0, 1.0, (0, 255, 0), 3)\n",
    "# show_image(image)"
   ]
  },
  {
   "attachments": {},
   "cell_type": "markdown",
   "metadata": {},
   "source": [
    "**Step 3**: Now write the image with the text to the disk. Use the cv2.imwrite() function for that and google how it works."
   ]
  },
  {
   "cell_type": "code",
   "execution_count": null,
   "metadata": {},
   "outputs": [],
   "source": [
    "# TODO: uncomment the code below\n",
    "\n",
    "# cv2.imwrite(\"my_image_with_text.png\", image)"
   ]
  },
  {
   "attachments": {},
   "cell_type": "markdown",
   "metadata": {},
   "source": [
    "**Step 3** [ADVANCED]: Apply the following algorithms to the image from the webcam: Smoothing and Thresholding. Then save with a different file name.\n",
    "\n",
    "- https://docs.opencv.org/4.x/d4/d13/tutorial_py_filtering.html\n",
    "- https://docs.opencv.org/4.x/d7/d4d/tutorial_py_thresholding.html\n"
   ]
  },
  {
   "cell_type": "code",
   "execution_count": null,
   "metadata": {},
   "outputs": [],
   "source": [
    "# apply smoothing\n",
    "\n",
    "# apply thresholding"
   ]
  }
 ],
 "metadata": {
  "kernelspec": {
   "display_name": "cvintro",
   "language": "python",
   "name": "python3"
  },
  "language_info": {
   "codemirror_mode": {
    "name": "ipython",
    "version": 3
   },
   "file_extension": ".py",
   "mimetype": "text/x-python",
   "name": "python",
   "nbconvert_exporter": "python",
   "pygments_lexer": "ipython3",
   "version": "3.7.16"
  },
  "orig_nbformat": 4
 },
 "nbformat": 4,
 "nbformat_minor": 2
}
