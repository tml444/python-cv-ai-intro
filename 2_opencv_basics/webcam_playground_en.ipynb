{
 "cells": [
  {
   "attachments": {},
   "cell_type": "markdown",
   "metadata": {},
   "source": [
    "# Webcam Playground\n",
    "This notebook serves as an introduction to image processing using the webcam."
   ]
  },
  {
   "attachments": {},
   "cell_type": "markdown",
   "metadata": {},
   "source": [
    "### A) Test the webcam\n"
   ]
  },
  {
   "cell_type": "markdown",
   "metadata": {},
   "source": [
    "**Step 1:** Import libraries in order to perform specific tasks:\n",
    "* cv2 (OpenCV) : Used for image processing and computer vision.\n",
    "* matplotlib.pyplot : Used for the visualization of data."
   ]
  },
  {
   "cell_type": "code",
   "execution_count": null,
   "metadata": {},
   "outputs": [],
   "source": [
    "import cv2\n",
    "import matplotlib.pyplot as plt"
   ]
  },
  {
   "cell_type": "markdown",
   "metadata": {},
   "source": [
    "**Step 2:** Define a function to show the images in this notebook:"
   ]
  },
  {
   "cell_type": "code",
   "execution_count": null,
   "metadata": {},
   "outputs": [],
   "source": [
    "def show_image(opencv_input_image):\n",
    "    # If you want to plot your cv images with matplotlib you need to change the color.\n",
    "    # This is necessary, due to the different color formats of opencv and matplotlib (opencv: BGR, matplotlib: RGB)\n",
    "    opencv_input_image_rgb = cv2.cvtColor(opencv_input_image, cv2.COLOR_BGR2RGB)\n",
    "    plt.imshow(opencv_input_image_rgb) "
   ]
  },
  {
   "cell_type": "markdown",
   "metadata": {},
   "source": [
    "**Step 3:** Create a webcam object of the internal webcam:"
   ]
  },
  {
   "cell_type": "code",
   "execution_count": null,
   "metadata": {},
   "outputs": [],
   "source": [
    "camera_id = 0 # id for internal webcam\n",
    "webcam = cv2.VideoCapture(camera_id)\n",
    "image_counter = 0 # counter for numbering the images"
   ]
  },
  {
   "cell_type": "markdown",
   "metadata": {},
   "source": [
    "**Step 4:** Visualize the image with our show_image function from above. Note: you may have to run this several times, due to the first image being black maybe:"
   ]
  },
  {
   "cell_type": "code",
   "execution_count": null,
   "metadata": {},
   "outputs": [],
   "source": [
    "success, image = webcam.read() # read in the webcam\n",
    "image_counter = image_counter + 1 \n",
    "\n",
    "# print the webcam image and the image counter\n",
    "print(success)\n",
    "print(\"Image counter: \", image_counter)\n",
    "show_image(image)"
   ]
  },
  {
   "cell_type": "markdown",
   "metadata": {},
   "source": [
    "**Step 5:** Print some image information:"
   ]
  },
  {
   "cell_type": "code",
   "execution_count": null,
   "metadata": {},
   "outputs": [],
   "source": [
    "print(image.shape) # show the dimensions of the image -> height x width x channels (3 channels, 1 for each color)\n",
    "print(image) # show the data structure of the image"
   ]
  },
  {
   "cell_type": "markdown",
   "metadata": {},
   "source": [
    "**Step 6:** Deactivate the camera:"
   ]
  },
  {
   "cell_type": "code",
   "execution_count": null,
   "metadata": {},
   "outputs": [],
   "source": [
    "webcam.release()"
   ]
  },
  {
   "attachments": {},
   "cell_type": "markdown",
   "metadata": {},
   "source": [
    "### B): Add some functionality"
   ]
  },
  {
   "cell_type": "markdown",
   "metadata": {},
   "source": [
    "**Step 1:** Print the current frame number on the image (using the following hints):\n",
    "* Google the opencv function \"cv2.putText()\"\n",
    "* Images have a xy coordinate system that starts in the upper left. Each pixel has a x and y position and a RGB color values, e.g. (235, 231, 5) for red, green and blue. You can try to print out the image once, to see the values and matrix."
   ]
  },
  {
   "cell_type": "code",
   "execution_count": null,
   "metadata": {},
   "outputs": [],
   "source": [
    "# TODO: uncomment the code below\n",
    "\n",
    "# myText = \"Nr:\" + str(image_counter)\n",
    "# image = cv2.putText(image, myText, (30, 50), 0, 1.0, (0, 0, 255), 3)\n",
    "# show_image(image)"
   ]
  },
  {
   "attachments": {},
   "cell_type": "markdown",
   "metadata": {},
   "source": [
    "**Step 2:** Now write the image with the text to the disk (using the following hints):\n",
    "* Google the opencv function \"cv2.imwrite()\""
   ]
  },
  {
   "cell_type": "code",
   "execution_count": null,
   "metadata": {},
   "outputs": [],
   "source": [
    "# TODO: uncomment the code below\n",
    "\n",
    "# cv2.imwrite(\"my_image_with_text.png\", image)"
   ]
  },
  {
   "attachments": {},
   "cell_type": "markdown",
   "metadata": {},
   "source": [
    "### C) Apply algorithms [ADVANCED]\n",
    "In this section you can try to apply simple algorithms to the webcam image"
   ]
  },
  {
   "cell_type": "markdown",
   "metadata": {},
   "source": [
    "**Step 1:**  Apply Smoothing to the image from the webcam and save it with a different filename (using the following hints):\n",
    "\n",
    "- https://docs.opencv.org/4.x/d4/d13/tutorial_py_filtering.html\n"
   ]
  },
  {
   "cell_type": "code",
   "execution_count": null,
   "metadata": {},
   "outputs": [],
   "source": [
    "# TODO: adapt the following code\n",
    "\n",
    "img = cv2.imread('my_image_with_text.png')\n",
    "\n",
    "# Add here the image smoothing\n",
    "\n",
    "\n",
    "# cv2.imwrite(\"your_image_name.png\", your_image_name)\n"
   ]
  },
  {
   "cell_type": "markdown",
   "metadata": {},
   "source": [
    "**Step 2:** Apply Thresholding to the image from the webcam and save it with a different filename (using the following hints):\n",
    "* https://docs.opencv.org/4.x/d7/d4d/tutorial_py_thresholding.html"
   ]
  },
  {
   "cell_type": "code",
   "execution_count": null,
   "metadata": {},
   "outputs": [],
   "source": [
    "# TODO: adapt the following code\n",
    "\n",
    "gray_img = cv2.imread('my_image_with_text.png', cv2.IMREAD_GRAYSCALE) # reading the image as a grayscale image\n",
    "\n",
    "# Add here the image thresholding\n",
    "\n",
    "\n",
    "# cv2.imwrite(\"your_image_name.png\", your_image_name)"
   ]
  }
 ],
 "metadata": {
  "kernelspec": {
   "display_name": "cvintro2",
   "language": "python",
   "name": "python3"
  },
  "language_info": {
   "codemirror_mode": {
    "name": "ipython",
    "version": 3
   },
   "file_extension": ".py",
   "mimetype": "text/x-python",
   "name": "python",
   "nbconvert_exporter": "python",
   "pygments_lexer": "ipython3",
   "version": "3.10.16"
  },
  "orig_nbformat": 4
 },
 "nbformat": 4,
 "nbformat_minor": 2
}
