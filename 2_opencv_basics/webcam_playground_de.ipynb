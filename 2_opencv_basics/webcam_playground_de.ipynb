{
 "cells": [
  {
   "attachments": {},
   "cell_type": "markdown",
   "metadata": {},
   "source": [
    "# Webcam Playground\n",
    "Dieses Notebook dient als Einführung in die Bildverarbeitung unter Verwendung einer Webcam."
   ]
  },
  {
   "attachments": {},
   "cell_type": "markdown",
   "metadata": {},
   "source": [
    "### A) Testen der Webcam\n"
   ]
  },
  {
   "cell_type": "markdown",
   "metadata": {},
   "source": [
    "**Schritt 1:** Einbinden von Bibliotheken, um bestimmte Aufgaben ausführen zu können:\n",
    "* cv2 (OpenCV) : Wird für Bildverarbeitung und Computer Vision eingesetzt.\n",
    "* matplotlib.pyplot : Wird für die Visualisierung von Daten eingesetzt."
   ]
  },
  {
   "cell_type": "code",
   "execution_count": null,
   "metadata": {},
   "outputs": [],
   "source": [
    "import cv2\n",
    "import matplotlib.pyplot as plt"
   ]
  },
  {
   "cell_type": "markdown",
   "metadata": {},
   "source": [
    "**Schritt 2:** Erstellen einer Funktion zur Visualisierung der Bilder im weiteren Verlauf des Notebooks:"
   ]
  },
  {
   "cell_type": "code",
   "execution_count": null,
   "metadata": {},
   "outputs": [],
   "source": [
    "def show_image(opencv_input_image):\n",
    "    # Wenn CV-Bilder mit Matplotlib dargestellt werden sollen, muss die Farbe geändert werden.\n",
    "    # Dies ist aufgrund der unterschiedlichen Farbformate von opencv und matplotlib notwendig \n",
    "    # opencv: BGR, matplotlib: RGB\n",
    "    opencv_input_image_rgb = cv2.cvtColor(opencv_input_image, cv2.COLOR_BGR2RGB)\n",
    "    plt.imshow(opencv_input_image_rgb) "
   ]
  },
  {
   "cell_type": "markdown",
   "metadata": {},
   "source": [
    "**Schritt 3:** Erstellen eines Webcam-Objekts mit der internen Webcam:"
   ]
  },
  {
   "cell_type": "code",
   "execution_count": null,
   "metadata": {},
   "outputs": [],
   "source": [
    "camera_id = 0 # id der internen Webcam\n",
    "webcam = cv2.VideoCapture(camera_id)\n",
    "image_counter = 0 # Zähler für die Nummerierung der Bilder"
   ]
  },
  {
   "cell_type": "markdown",
   "metadata": {},
   "source": [
    "**Schritt 4:** Visualisieren des Bildes mit Hilfe der show_image-Funktion aus Schritt 1. Hinweis: Möglicherweise muss diese Funktion mehrmals ausgeführt werden, da das erste Bild möglicherweise schwarz ist:"
   ]
  },
  {
   "cell_type": "code",
   "execution_count": null,
   "metadata": {},
   "outputs": [],
   "source": [
    "success, image = webcam.read() # einlesen der Webcam\n",
    "image_counter = image_counter + 1 \n",
    "\n",
    "# ausgeben des Webcam-Bildes und des Zählers\n",
    "print(success)\n",
    "print(\"Zähler: \", image_counter)\n",
    "show_image(image)"
   ]
  },
  {
   "cell_type": "markdown",
   "metadata": {},
   "source": [
    "**Schritt 5:** Ausgeben einiger Bildinformationen:"
   ]
  },
  {
   "cell_type": "code",
   "execution_count": null,
   "metadata": {},
   "outputs": [],
   "source": [
    "print(image.shape) # die Dimensionen des Bildes anzeigen -> Höhe x Breite x Kanäle (3 Kanäle, jeweils 1 für jede Farbe)\n",
    "print(image) # die Datenstruktur des Bildes anzeigen"
   ]
  },
  {
   "cell_type": "markdown",
   "metadata": {},
   "source": [
    "**Schritt 6:** Deaktivieren der Kamera:"
   ]
  },
  {
   "cell_type": "code",
   "execution_count": null,
   "metadata": {},
   "outputs": [],
   "source": [
    "webcam.release()"
   ]
  },
  {
   "attachments": {},
   "cell_type": "markdown",
   "metadata": {},
   "source": [
    "### B): Hinzufügen von Funktionen"
   ]
  },
  {
   "cell_type": "markdown",
   "metadata": {},
   "source": [
    "**Schritt 1:** Gebe die aktuelle Bildnummer auf dem Bild aus (Passe hierfür die nachfolgende Zelle unter Verwendung der folgenden Hinweise an):\n",
    "* Googlen der opencv Funktion \"cv2.putText()\"\n",
    "* Bilder haben ein xy-Koordinatensystem, das in der oberen linken Ecke beginnt. Jedes Pixel hat eine x- und y-Position und einen RGB-Farbwert, z. B. (235, 231, 5) für Rot, Grün und Blau. Sie können versuchen, das Bild einmal auszugeben, um die Werte und die Matrix zu sehen."
   ]
  },
  {
   "cell_type": "code",
   "execution_count": null,
   "metadata": {},
   "outputs": [],
   "source": [
    "# TODO: Komentiere den unteren Code aus\n",
    "\n",
    "# myText = \"Nr:\" + str(image_counter)\n",
    "# image = cv2.putText(image, myText, (30, 50), 0, 1.0, (0, 0, 255), 3)\n",
    "# show_image(image)"
   ]
  },
  {
   "attachments": {},
   "cell_type": "markdown",
   "metadata": {},
   "source": [
    "**Schritt 2:** Schreibe nun das Bild mit dem Text auf die Festplatte (Passe hierfür die nachfolgende Zelle unter Verwendung der folgenden Hinweise an):\n",
    "* Googlen der opencv Funktion \"cv2.imwrite()\"\n",
    "* Nach erfolgreichem Speichern solltest du dein Bild links in deiner Ordnerstruktur sehen und öffnen können"
   ]
  },
  {
   "cell_type": "code",
   "execution_count": null,
   "metadata": {},
   "outputs": [],
   "source": [
    "# TODO: Komentiere den unteren Code aus\n",
    "\n",
    "# cv2.imwrite(\"my_image_with_text.png\", image)"
   ]
  },
  {
   "attachments": {},
   "cell_type": "markdown",
   "metadata": {},
   "source": [
    "### C) Anwendung von Algorithmen [FORTGESCHRITTEN]\n",
    "In diesem Abschnitt können die Zellen angepasst werden, um einfache Algorithmen auf das Webcam-Bild anzuwenden."
   ]
  },
  {
   "cell_type": "markdown",
   "metadata": {},
   "source": [
    "**Schritt 1:**  Führe eine Glättung (Smoothing) des Bildes der Webcam durch und speichere es unter einem anderen Dateinamen ab (Passe hierfür die nachfolgende Zelle unter Verwendung der folgenden Hinweise an):\n",
    "\n",
    "- https://docs.opencv.org/4.x/d4/d13/tutorial_py_filtering.html\n",
    "- Achte darauf bei den Befehlen cv2 statt cv zuverwenden, da wir eine neuere cv Version als im Tutorial verwenden\n"
   ]
  },
  {
   "cell_type": "code",
   "execution_count": null,
   "metadata": {},
   "outputs": [],
   "source": [
    "# TODO: Passe den folgenden Code an\n",
    "\n",
    "img = cv2.imread('my_image_with_text.png')\n",
    "\n",
    "#  Füge hier die Glättung des Bildes ein\n",
    "\n",
    "\n",
    "# cv2.imwrite(\"your_image_name.png\", your_image_name)\n"
   ]
  },
  {
   "cell_type": "markdown",
   "metadata": {},
   "source": [
    "**Schritt 2:** Wende einen Schwellenwert (Threshold) auf das Bild der Webcam an und speichere es unter einem anderen Dateinamen ab (Passe hierfür die nachfolgende Zelle unter Verwendung der folgenden Hinweise an):\n",
    "* https://docs.opencv.org/4.x/d7/d4d/tutorial_py_thresholding.html\n",
    "* Achte darauf bei den Befehlen cv2 statt cv zuverwenden, da wir eine neuere cv Version als im Tutorial verwenden"
   ]
  },
  {
   "cell_type": "code",
   "execution_count": null,
   "metadata": {},
   "outputs": [],
   "source": [
    "# TODO: Passe den folgenden Code an\n",
    "\n",
    "gray_img = cv2.imread('my_image_with_text.png', cv2.IMREAD_GRAYSCALE) # einlesen des Bildes als Graustufenbild\n",
    "\n",
    "# Wende hier den Schwellenwert auf das Bild an\n",
    "\n",
    "\n",
    "# cv2.imwrite(\"your_image_name.png\", your_image_name)"
   ]
  }
 ],
 "metadata": {
  "kernelspec": {
   "display_name": "cvintro2",
   "language": "python",
   "name": "python3"
  },
  "language_info": {
   "codemirror_mode": {
    "name": "ipython",
    "version": 3
   },
   "file_extension": ".py",
   "mimetype": "text/x-python",
   "name": "python",
   "nbconvert_exporter": "python",
   "pygments_lexer": "ipython3",
   "version": "3.10.16"
  },
  "orig_nbformat": 4
 },
 "nbformat": 4,
 "nbformat_minor": 2
}
